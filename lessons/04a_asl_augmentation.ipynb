{
 "cells": [
  {
   "cell_type": "markdown",
   "metadata": {
    "id": "J1AHrcF83Y-g"
   },
   "source": [
    "<center><a href=\"https://www.nvidia.com/dli\"> <img src=\"images/DLI_Header.png\" alt=\"Header\" style=\"width: 400px;\"/> </a></center>"
   ]
  },
  {
   "cell_type": "markdown",
   "metadata": {
    "id": "bBNeKAyF3Y-h"
   },
   "source": [
    "# 4a. Data Augmentation"
   ]
  },
  {
   "cell_type": "markdown",
   "metadata": {
    "id": "HTHY1Otu3Y-h"
   },
   "source": [
    "So far, we've selected a model architecture that vastly improves the model's performance, as it is designed to recognize important features in the images. The validation accuracy is still lagging behind the training accuracy, which is a sign of overfitting: the model is getting confused by things it has not seen before when it tests against the validation dataset.\n",
    "\n",
    "In order to teach our model to be more robust when looking at new data, we're going to programmatically increase the size and variance in our dataset. This is known as [*data augmentation*](https://link.springer.com/article/10.1186/s40537-019-0197-0), a useful technique for many deep learning applications.\n",
    "\n",
    "The increase in size gives the model more images to learn from while training. The increase in variance helps the model ignore unimportant features and select only the features that are truly important in classification, allowing it to generalize better."
   ]
  },
  {
   "cell_type": "markdown",
   "metadata": {
    "id": "k01AskqI3Y-h"
   },
   "source": [
    "## 4a.1 Objectives"
   ]
  },
  {
   "cell_type": "markdown",
   "metadata": {
    "id": "YCFOyxKS3Y-h"
   },
   "source": [
    "* Augment the ASL dataset\n",
    "* Use the augmented data to train an improved model\n",
    "* Save the well-trained model to disk for use in deployment"
   ]
  },
  {
   "cell_type": "code",
   "execution_count": 44,
   "metadata": {
    "colab": {
     "base_uri": "https://localhost:8080/"
    },
    "executionInfo": {
     "elapsed": 6560,
     "status": "ok",
     "timestamp": 1715241340700,
     "user": {
      "displayName": "Danielle Detering US",
      "userId": "15432464718872067879"
     },
     "user_tz": 420
    },
    "id": "ocl26UO63Y-i",
    "outputId": "b097ecfc-e330-4c6e-d386-4b2b7cbb55bb"
   },
   "outputs": [
    {
     "data": {
      "text/plain": [
       "False"
      ]
     },
     "execution_count": 44,
     "metadata": {},
     "output_type": "execute_result"
    }
   ],
   "source": [
    "import torch.nn as nn\n",
    "import pandas as pd\n",
    "import torch\n",
    "from torch.optim import Adam\n",
    "from torch.utils.data import Dataset, DataLoader\n",
    "import torchvision.transforms.v2 as transforms\n",
    "import torchvision.transforms.functional as F\n",
    "import matplotlib.pyplot as plt\n",
    "\n",
    "import utils\n",
    "\n",
    "device = torch.device(\"cuda\" if torch.cuda.is_available() else \"cpu\")\n",
    "torch.cuda.is_available()"
   ]
  },
  {
   "cell_type": "markdown",
   "metadata": {
    "id": "u-FCWlRg3Y-h"
   },
   "source": [
    "## 4a.2 Preparing the Data"
   ]
  },
  {
   "cell_type": "markdown",
   "metadata": {
    "id": "JjSagpmG3Y-i"
   },
   "source": [
    "As we're in a new notebook, we will load and process our data again. To do this, execute the following cell:"
   ]
  },
  {
   "cell_type": "code",
   "execution_count": 45,
   "metadata": {
    "executionInfo": {
     "elapsed": 3988,
     "status": "ok",
     "timestamp": 1715241345056,
     "user": {
      "displayName": "Danielle Detering US",
      "userId": "15432464718872067879"
     },
     "user_tz": 420
    },
    "id": "jYhhD7yo2WEI"
   },
   "outputs": [],
   "source": [
    "import os\n",
    "IMG_HEIGHT = 28\n",
    "IMG_WIDTH = 28\n",
    "IMG_CHS = 1\n",
    "# N_CLASSES = 24\n",
    "N_CLASSES = 26\n",
    "\n",
    "# Define dataset and destination path\n",
    "dataset_name = \"datamunge/sign-language-mnist\"\n",
    "destination_path = \"data/asl_data\"\n",
    "train_csv_path = os.path.join(destination_path, \"sign_mnist_train.csv\")\n",
    "valid_csv_path = os.path.join(destination_path, \"sign_mnist_test.csv\")  # Test set used as validation\n",
    "train_csv_path\n",
    "\n",
    "\n",
    "train_df = pd.read_csv(train_csv_path)\n",
    "valid_df = pd.read_csv(valid_csv_path)\n",
    "\n",
    "# train_df = pd.read_csv(\"data/asl_data/sign_mnist_train.csv\")\n",
    "# valid_df = pd.read_csv(\"data/asl_data/sign_mnist_valid.csv\")\n",
    "\n",
    "class MyDataset(Dataset):\n",
    "    def __init__(self, base_df):\n",
    "        x_df = base_df.copy()\n",
    "        y_df = x_df.pop('label')\n",
    "        x_df = x_df.values / 255  # Normalize values from 0 to 1\n",
    "        x_df = x_df.reshape(-1, IMG_CHS, IMG_WIDTH, IMG_HEIGHT)\n",
    "        self.xs = torch.tensor(x_df).float().to(device)\n",
    "        self.ys = torch.tensor(y_df).to(device)\n",
    "\n",
    "    def __getitem__(self, idx):\n",
    "        x = self.xs[idx]\n",
    "        y = self.ys[idx]\n",
    "        return x, y\n",
    "\n",
    "    def __len__(self):\n",
    "        return len(self.xs)\n",
    "\n",
    "n = 32\n",
    "train_data = MyDataset(train_df)\n",
    "train_loader = DataLoader(train_data, batch_size=n, shuffle=True)\n",
    "train_N = len(train_loader.dataset)\n",
    "\n",
    "valid_data = MyDataset(valid_df)\n",
    "valid_loader = DataLoader(valid_data, batch_size=n)\n",
    "valid_N = len(valid_loader.dataset)"
   ]
  },
  {
   "cell_type": "markdown",
   "metadata": {
    "id": "qwsfoZkE3Y-i"
   },
   "source": [
    "## 4a.3 Model Creation"
   ]
  },
  {
   "cell_type": "markdown",
   "metadata": {
    "id": "ze7Tv-Aj3Y-i"
   },
   "source": [
    "We will also need to create our model again. As we learned in the last lesson, convolutional neural networks use a repeated sequence of layers. Let's take advantage of this pattern to make our own [custom module](https://pytorch.org/tutorials/beginner/examples_nn/two_layer_net_module.html). We can then use this module like a layer in our [Sequential](https://pytorch.org/docs/stable/generated/torch.nn.Sequential.html) model.\n",
    "\n",
    "To do this, we will extend the [Module](https://pytorch.org/docs/stable/generated/torch.nn.Module.html) class. Then we will define two methods:\n",
    "* `__init__`: defines any properties we want our module to have, including our neural network layers. We will effectively be using a model within a model.\n",
    "* `forward`: defines how we want the module to process any incoming data from the previous layer it is connected to. Since we are using a `Sequential` model, we can pass the input data into it like we are making a prediction."
   ]
  },
  {
   "cell_type": "code",
   "execution_count": 46,
   "metadata": {
    "executionInfo": {
     "elapsed": 322,
     "status": "ok",
     "timestamp": 1715241347583,
     "user": {
      "displayName": "Danielle Detering US",
      "userId": "15432464718872067879"
     },
     "user_tz": 420
    },
    "id": "_o8Y7C91Bfl8"
   },
   "outputs": [],
   "source": [
    "class MyConvBlock(nn.Module):\n",
    "    def __init__(self, in_ch, out_ch, dropout_p):\n",
    "        kernel_size = 3\n",
    "        super().__init__()\n",
    "\n",
    "        self.model = nn.Sequential(\n",
    "            nn.Conv2d(in_ch, out_ch, kernel_size, stride=1, padding=1),\n",
    "            nn.BatchNorm2d(out_ch),\n",
    "            nn.ReLU(),\n",
    "            nn.Dropout(dropout_p),\n",
    "            nn.MaxPool2d(2, stride=2)\n",
    "        )\n",
    "\n",
    "    def forward(self, x):\n",
    "        return self.model(x)"
   ]
  },
  {
   "cell_type": "markdown",
   "metadata": {},
   "source": [
    "Now that we've define our custom module, let's see it in action. The below model ia archecturially the same as in the previous lesson. Can you see the connection?"
   ]
  },
  {
   "cell_type": "markdown",
   "metadata": {},
   "source": [
    "### Tensor Size Comments\n",
    "\n",
    "| Layer           | Input Size         | Output Size       | Explanation                                   |\n",
    "|------------------|--------------------|-------------------|-----------------------------------------------|\n",
    "| **Input**       | `1 × 28 × 28`      | `1 × 28 × 28`     | Input grayscale image.                       |\n",
    "| **ConvBlock 1** | `1 × 28 × 28`      | `25 × 14 × 14`    | 25 channels, height and width halved.        |\n",
    "| **ConvBlock 2** | `25 × 14 × 14`     | `50 × 7 × 7`      | 50 channels, height and width halved.        |\n",
    "| **ConvBlock 3** | `50 × 7 × 7`       | `75 × 3 × 3`      | 75 channels, height and width halved.        |\n",
    "| **Flatten**     | `75 × 3 × 3`       | `675`             | Flattened to a 1D vector.                    |\n",
    "| **Dense Layer 1** | `675`             | `512`             | Fully connected layer output.                |\n",
    "| **Dense Layer 2** | `512`             | `N_CLASSES`       | Final output with class \n",
    "scores.              |\n",
    "\n",
    "\n",
    "### **Input and Output Channels in CNNs**\n",
    "\n",
    "- **Input Channels**: \n",
    "  - The depth (number of feature maps) of the input tensor.\n",
    "  - Examples:\n",
    "    - Grayscale image: `1` input channel.\n",
    "    - RGB image: `3` input channels (Red, Green, Blue).\n",
    "    - Feature maps: Output of previous layer (e.g., `25` feature maps = `25` input channels for the next layer).\n",
    "\n",
    "- **Output Channels**: \n",
    "  - The number of feature maps produced by a convolutional layer.\n",
    "  - Each output channel corresponds to one convolutional filter.\n",
    "  - Example:\n",
    "    - `MyConvBlock(25, 50, 0.2)`:\n",
    "      - Input: `25` channels (from the previous layer's output).\n",
    "      - Output: `50` channels (50 feature maps produced by this layer).\n",
    "\n",
    "- **Why Channels Matter**:\n",
    "  - **Feature Representation**: Each channel captures unique features (edges, textures, shapes, etc.).\n",
    "  - **Hierarchical Learning**: Early layers learn basic patterns, while deeper layers combine these into complex features.\n",
    "\n",
    "- **Visualization**:\n",
    "  - Channels can be thought of as a \"stack\" of 2D feature maps:\n",
    "    - Grayscale image = 1 channel (single map).\n",
    "    - RGB image = 3 channels (Red, Green, Blue maps).\n",
    "    - Hidden layers = stacks of feature maps representing learned features.\n",
    "\n"
   ]
  },
  {
   "cell_type": "code",
   "execution_count": 47,
   "metadata": {
    "executionInfo": {
     "elapsed": 2,
     "status": "ok",
     "timestamp": 1715241351435,
     "user": {
      "displayName": "Danielle Detering US",
      "userId": "15432464718872067879"
     },
     "user_tz": 420
    },
    "id": "I0A_7iJvB8Kc"
   },
   "outputs": [],
   "source": [
    "\n",
    "\n",
    "flattened_img_size = 75 * 3 * 3\n",
    "\n",
    "# Input 1 x 28 x 28\n",
    "base_model = nn.Sequential(\n",
    "    MyConvBlock(IMG_CHS, 25, 0), # 25 x 14 x 14\n",
    "    MyConvBlock(25, 50, 0.2), # 50 x 7 x 7\n",
    "    MyConvBlock(50, 75, 0),  # 75 x 3 x 3\n",
    "    # Flatten to Dense Layers\n",
    "    nn.Flatten(),\n",
    "    nn.Linear(flattened_img_size, 512),\n",
    "    nn.Dropout(.3),\n",
    "    nn.ReLU(),\n",
    "    nn.Linear(512, N_CLASSES)\n",
    ")"
   ]
  },
  {
   "cell_type": "markdown",
   "metadata": {},
   "source": [
    "When we print the model, not only will it now show the use of our custom module, it will also show the layers within our custom module:"
   ]
  },
  {
   "cell_type": "code",
   "execution_count": 48,
   "metadata": {
    "colab": {
     "base_uri": "https://localhost:8080/"
    },
    "executionInfo": {
     "elapsed": 465,
     "status": "ok",
     "timestamp": 1715241354080,
     "user": {
      "displayName": "Danielle Detering US",
      "userId": "15432464718872067879"
     },
     "user_tz": 420
    },
    "id": "4THc2t0HhNcv",
    "outputId": "e25d69a9-e51a-4a90-90df-dc69a586f54b"
   },
   "outputs": [
    {
     "data": {
      "text/plain": [
       "OptimizedModule(\n",
       "  (_orig_mod): Sequential(\n",
       "    (0): MyConvBlock(\n",
       "      (model): Sequential(\n",
       "        (0): Conv2d(1, 25, kernel_size=(3, 3), stride=(1, 1), padding=(1, 1))\n",
       "        (1): BatchNorm2d(25, eps=1e-05, momentum=0.1, affine=True, track_running_stats=True)\n",
       "        (2): ReLU()\n",
       "        (3): Dropout(p=0, inplace=False)\n",
       "        (4): MaxPool2d(kernel_size=2, stride=2, padding=0, dilation=1, ceil_mode=False)\n",
       "      )\n",
       "    )\n",
       "    (1): MyConvBlock(\n",
       "      (model): Sequential(\n",
       "        (0): Conv2d(25, 50, kernel_size=(3, 3), stride=(1, 1), padding=(1, 1))\n",
       "        (1): BatchNorm2d(50, eps=1e-05, momentum=0.1, affine=True, track_running_stats=True)\n",
       "        (2): ReLU()\n",
       "        (3): Dropout(p=0.2, inplace=False)\n",
       "        (4): MaxPool2d(kernel_size=2, stride=2, padding=0, dilation=1, ceil_mode=False)\n",
       "      )\n",
       "    )\n",
       "    (2): MyConvBlock(\n",
       "      (model): Sequential(\n",
       "        (0): Conv2d(50, 75, kernel_size=(3, 3), stride=(1, 1), padding=(1, 1))\n",
       "        (1): BatchNorm2d(75, eps=1e-05, momentum=0.1, affine=True, track_running_stats=True)\n",
       "        (2): ReLU()\n",
       "        (3): Dropout(p=0, inplace=False)\n",
       "        (4): MaxPool2d(kernel_size=2, stride=2, padding=0, dilation=1, ceil_mode=False)\n",
       "      )\n",
       "    )\n",
       "    (3): Flatten(start_dim=1, end_dim=-1)\n",
       "    (4): Linear(in_features=675, out_features=512, bias=True)\n",
       "    (5): Dropout(p=0.3, inplace=False)\n",
       "    (6): ReLU()\n",
       "    (7): Linear(in_features=512, out_features=26, bias=True)\n",
       "  )\n",
       ")"
      ]
     },
     "execution_count": 48,
     "metadata": {},
     "output_type": "execute_result"
    }
   ],
   "source": [
    "loss_function = nn.CrossEntropyLoss()\n",
    "optimizer = Adam(base_model.parameters())\n",
    "\n",
    "model = torch.compile(base_model.to(device))\n",
    "model"
   ]
  },
  {
   "cell_type": "markdown",
   "metadata": {},
   "source": [
    "Custom modules are flexible, and we can define any other methods or properties we wish to have. This makes them powerful when data scientists are trying to solve complex problems."
   ]
  },
  {
   "cell_type": "markdown",
   "metadata": {
    "id": "kjBNCzfc3Y-j"
   },
   "source": [
    "## 4a.4 Data Augmentation"
   ]
  },
  {
   "cell_type": "markdown",
   "metadata": {
    "id": "y8HdHKtM3Y-j"
   },
   "source": [
    "Before defining our training loop, it's time to set up our data augmentation.\n",
    "\n",
    "We've seen [TorchVision](https://pytorch.org/vision/stable/index.html)'s [Transforms](https://pytorch.org/vision/0.9/transforms.html) before, but in this lesson, we will further explore its data augmentation tools. First, let's get a sample image to test with:"
   ]
  },
  {
   "cell_type": "code",
   "execution_count": 49,
   "metadata": {
    "colab": {
     "base_uri": "https://localhost:8080/"
    },
    "executionInfo": {
     "elapsed": 312,
     "status": "ok",
     "timestamp": 1715241358482,
     "user": {
      "displayName": "Danielle Detering US",
      "userId": "15432464718872067879"
     },
     "user_tz": 420
    },
    "id": "-LT7NvrXhYwB",
    "outputId": "4c1c1af4-811b-46d7-fa73-594772907549"
   },
   "outputs": [
    {
     "data": {
      "text/plain": [
       "tensor([[[0.4196, 0.4627, 0.4980, 0.5255, 0.5451, 0.5608, 0.5725, 0.5882,\n",
       "          0.6000, 0.6118, 0.6196, 0.6275, 0.6392, 0.6471, 0.6235, 0.6510,\n",
       "          0.6588, 0.6667, 0.6667, 0.6706, 0.6706, 0.6706, 0.6745, 0.6706,\n",
       "          0.6706, 0.6667, 0.6667, 0.6627],\n",
       "         [0.4353, 0.4745, 0.5059, 0.5294, 0.5529, 0.5647, 0.5804, 0.5922,\n",
       "          0.6039, 0.6157, 0.6275, 0.6392, 0.6431, 0.6667, 0.4667, 0.5961,\n",
       "          0.6706, 0.6706, 0.6667, 0.6706, 0.6745, 0.6745, 0.6745, 0.6745,\n",
       "          0.6745, 0.6706, 0.6706, 0.6667],\n",
       "         [0.4431, 0.4824, 0.5137, 0.5373, 0.5569, 0.5686, 0.5882, 0.5961,\n",
       "          0.6078, 0.6196, 0.6314, 0.6392, 0.6431, 0.6745, 0.4118, 0.5569,\n",
       "          0.6667, 0.6706, 0.6706, 0.6706, 0.6745, 0.6745, 0.6784, 0.6784,\n",
       "          0.6745, 0.6706, 0.6706, 0.6706],\n",
       "         [0.4549, 0.4902, 0.5216, 0.5451, 0.5608, 0.5725, 0.5922, 0.6000,\n",
       "          0.6118, 0.6235, 0.6353, 0.6392, 0.6549, 0.6549, 0.3725, 0.5647,\n",
       "          0.6706, 0.6745, 0.6745, 0.6745, 0.6745, 0.6745, 0.6784, 0.6784,\n",
       "          0.6784, 0.6745, 0.6745, 0.6706],\n",
       "         [0.4588, 0.4941, 0.5255, 0.5490, 0.5686, 0.5843, 0.6000, 0.6118,\n",
       "          0.6196, 0.6314, 0.6392, 0.6431, 0.6863, 0.6118, 0.3412, 0.6039,\n",
       "          0.6745, 0.6784, 0.6784, 0.6784, 0.6784, 0.6784, 0.6824, 0.6824,\n",
       "          0.6824, 0.6784, 0.6745, 0.6745],\n",
       "         [0.4667, 0.5020, 0.5333, 0.5569, 0.5725, 0.5882, 0.6000, 0.6118,\n",
       "          0.6235, 0.6392, 0.6471, 0.6431, 0.7216, 0.5804, 0.3490, 0.6431,\n",
       "          0.6745, 0.6824, 0.6824, 0.6824, 0.6824, 0.6863, 0.6863, 0.6824,\n",
       "          0.6863, 0.6824, 0.6784, 0.6784],\n",
       "         [0.4784, 0.5098, 0.5412, 0.5608, 0.5765, 0.5882, 0.6039, 0.6196,\n",
       "          0.6353, 0.6471, 0.6510, 0.6745, 0.7098, 0.5020, 0.3686, 0.6667,\n",
       "          0.6784, 0.6863, 0.6824, 0.6863, 0.6902, 0.6941, 0.6941, 0.6941,\n",
       "          0.6941, 0.6863, 0.6863, 0.6824],\n",
       "         [0.4784, 0.5176, 0.5451, 0.5686, 0.5843, 0.5961, 0.6118, 0.6275,\n",
       "          0.6392, 0.6471, 0.6510, 0.7098, 0.6745, 0.4039, 0.4431, 0.6863,\n",
       "          0.6902, 0.6980, 0.6980, 0.7020, 0.7020, 0.7020, 0.7020, 0.6980,\n",
       "          0.7020, 0.6941, 0.6863, 0.6824],\n",
       "         [0.4902, 0.5255, 0.5529, 0.5765, 0.5882, 0.6000, 0.6157, 0.6314,\n",
       "          0.6431, 0.6549, 0.6588, 0.7216, 0.7020, 0.4549, 0.4941, 0.6471,\n",
       "          0.6902, 0.7020, 0.7059, 0.7059, 0.7098, 0.7059, 0.7059, 0.7059,\n",
       "          0.7020, 0.6980, 0.6941, 0.6902],\n",
       "         [0.5020, 0.5294, 0.5569, 0.5804, 0.5961, 0.6039, 0.6196, 0.6353,\n",
       "          0.6471, 0.6588, 0.6667, 0.7333, 0.7059, 0.6118, 0.6314, 0.4863,\n",
       "          0.5608, 0.7020, 0.6980, 0.6980, 0.7098, 0.7137, 0.7098, 0.7059,\n",
       "          0.7098, 0.7059, 0.7020, 0.7020],\n",
       "         [0.5059, 0.5333, 0.5647, 0.5882, 0.6000, 0.6078, 0.6235, 0.6392,\n",
       "          0.6510, 0.6627, 0.6745, 0.7333, 0.7216, 0.6000, 0.4000, 0.4588,\n",
       "          0.4314, 0.6863, 0.6627, 0.6039, 0.7137, 0.7176, 0.7176, 0.7137,\n",
       "          0.7137, 0.7098, 0.7098, 0.7020],\n",
       "         [0.5137, 0.5412, 0.5686, 0.5882, 0.6078, 0.6157, 0.6314, 0.6471,\n",
       "          0.6588, 0.6824, 0.7451, 0.7412, 0.6863, 0.5725, 0.3686, 0.3804,\n",
       "          0.4431, 0.5922, 0.6196, 0.5059, 0.7216, 0.7216, 0.7216, 0.7216,\n",
       "          0.7176, 0.7176, 0.7137, 0.7059],\n",
       "         [0.5137, 0.5451, 0.5725, 0.5922, 0.6078, 0.6235, 0.6392, 0.6549,\n",
       "          0.6863, 0.7137, 0.7020, 0.6706, 0.6235, 0.4471, 0.4000, 0.3490,\n",
       "          0.4745, 0.5333, 0.5333, 0.3765, 0.6745, 0.7294, 0.7294, 0.7255,\n",
       "          0.7255, 0.7216, 0.7137, 0.7098],\n",
       "         [0.5137, 0.5490, 0.5765, 0.6039, 0.6157, 0.6275, 0.6431, 0.7020,\n",
       "          0.7294, 0.7490, 0.7333, 0.7059, 0.6157, 0.3922, 0.3451, 0.3294,\n",
       "          0.4235, 0.4353, 0.4941, 0.3529, 0.4706, 0.7294, 0.7333, 0.7333,\n",
       "          0.7294, 0.7255, 0.7216, 0.7137],\n",
       "         [0.5216, 0.5529, 0.5843, 0.6078, 0.6196, 0.6275, 0.6824, 0.7882,\n",
       "          0.7412, 0.6471, 0.5922, 0.5608, 0.5725, 0.4706, 0.3412, 0.3059,\n",
       "          0.3412, 0.2980, 0.4235, 0.3843, 0.3765, 0.7098, 0.7373, 0.7333,\n",
       "          0.7294, 0.7294, 0.7255, 0.7176],\n",
       "         [0.5216, 0.5529, 0.5882, 0.6118, 0.6275, 0.6314, 0.7020, 0.7725,\n",
       "          0.6824, 0.5294, 0.3882, 0.2824, 0.3725, 0.5255, 0.3804, 0.2824,\n",
       "          0.2902, 0.2667, 0.4549, 0.4118, 0.4235, 0.7333, 0.7412, 0.7333,\n",
       "          0.7333, 0.7294, 0.7294, 0.7255],\n",
       "         [0.5255, 0.5608, 0.5922, 0.6118, 0.6314, 0.6392, 0.7020, 0.7608,\n",
       "          0.6118, 0.4314, 0.2902, 0.1647, 0.2039, 0.5451, 0.3686, 0.2627,\n",
       "          0.2941, 0.2941, 0.4627, 0.4157, 0.5059, 0.7412, 0.7490, 0.7451,\n",
       "          0.7373, 0.7373, 0.7333, 0.7294],\n",
       "         [0.5294, 0.5647, 0.5961, 0.6196, 0.6392, 0.6392, 0.6941, 0.7569,\n",
       "          0.6314, 0.4784, 0.3294, 0.1686, 0.2784, 0.5255, 0.3176, 0.2235,\n",
       "          0.2784, 0.3451, 0.4392, 0.3843, 0.6157, 0.7569, 0.7569, 0.7529,\n",
       "          0.7451, 0.7451, 0.7412, 0.7373],\n",
       "         [0.5333, 0.5647, 0.5961, 0.6196, 0.6353, 0.6392, 0.6902, 0.7529,\n",
       "          0.6431, 0.5020, 0.3843, 0.2431, 0.2353, 0.3922, 0.2784, 0.2980,\n",
       "          0.3765, 0.3961, 0.4118, 0.3725, 0.6824, 0.7647, 0.7608, 0.7608,\n",
       "          0.7608, 0.7569, 0.7490, 0.7451],\n",
       "         [0.5373, 0.5686, 0.5961, 0.6235, 0.6431, 0.6471, 0.6980, 0.7490,\n",
       "          0.6431, 0.5294, 0.4431, 0.3216, 0.2314, 0.3412, 0.3843, 0.4353,\n",
       "          0.4706, 0.4235, 0.3804, 0.4235, 0.7451, 0.7686, 0.7647, 0.7647,\n",
       "          0.7608, 0.7569, 0.7569, 0.7529],\n",
       "         [0.5451, 0.5725, 0.6039, 0.6275, 0.6431, 0.6471, 0.6863, 0.7294,\n",
       "          0.6392, 0.5451, 0.4392, 0.3333, 0.2627, 0.4000, 0.4941, 0.5216,\n",
       "          0.4941, 0.4118, 0.4078, 0.6902, 0.7725, 0.7765, 0.7725, 0.7686,\n",
       "          0.7647, 0.7647, 0.7608, 0.7569],\n",
       "         [0.5412, 0.5765, 0.6078, 0.6314, 0.6471, 0.6549, 0.6745, 0.7294,\n",
       "          0.6392, 0.5373, 0.4196, 0.3412, 0.2980, 0.4157, 0.4784, 0.4902,\n",
       "          0.4588, 0.3765, 0.6118, 0.7804, 0.7804, 0.7843, 0.7765, 0.7686,\n",
       "          0.7686, 0.7647, 0.7647, 0.7608],\n",
       "         [0.5451, 0.5804, 0.6118, 0.6392, 0.6510, 0.6588, 0.6745, 0.7059,\n",
       "          0.6196, 0.5137, 0.4235, 0.3882, 0.3373, 0.4235, 0.4627, 0.4549,\n",
       "          0.4039, 0.4196, 0.7490, 0.7922, 0.7882, 0.7843, 0.7843, 0.7843,\n",
       "          0.7804, 0.7725, 0.7765, 0.7686],\n",
       "         [0.5490, 0.5843, 0.6157, 0.6431, 0.6588, 0.6549, 0.6941, 0.6980,\n",
       "          0.6078, 0.5137, 0.4627, 0.4118, 0.3412, 0.3922, 0.4157, 0.3922,\n",
       "          0.3765, 0.6431, 0.7922, 0.7922, 0.7922, 0.7922, 0.7922, 0.7882,\n",
       "          0.7843, 0.7804, 0.7804, 0.7765],\n",
       "         [0.5490, 0.5882, 0.6157, 0.6471, 0.6549, 0.6667, 0.7098, 0.6863,\n",
       "          0.5961, 0.5098, 0.4510, 0.3843, 0.3216, 0.3333, 0.3529, 0.3882,\n",
       "          0.6471, 0.7922, 0.7961, 0.8000, 0.7961, 0.7961, 0.7922, 0.7922,\n",
       "          0.7882, 0.7882, 0.7843, 0.7843],\n",
       "         [0.5569, 0.5882, 0.6235, 0.6471, 0.6667, 0.7490, 0.6784, 0.6157,\n",
       "          0.5647, 0.4667, 0.3804, 0.3294, 0.3098, 0.3098, 0.3569, 0.6745,\n",
       "          0.7922, 0.7961, 0.7961, 0.8039, 0.8000, 0.8000, 0.8000, 0.7961,\n",
       "          0.7922, 0.7922, 0.7882, 0.7843],\n",
       "         [0.5569, 0.5922, 0.6275, 0.6471, 0.7373, 0.7451, 0.7333, 0.5882,\n",
       "          0.4667, 0.4275, 0.3333, 0.3098, 0.3098, 0.3059, 0.5373, 0.7961,\n",
       "          0.8039, 0.8078, 0.8078, 0.8118, 0.8118, 0.8078, 0.8078, 0.8000,\n",
       "          0.8039, 0.8000, 0.7961, 0.7922],\n",
       "         [0.5569, 0.5922, 0.6275, 0.6745, 0.7686, 0.7373, 0.7373, 0.7451,\n",
       "          0.5294, 0.3765, 0.3373, 0.3020, 0.3020, 0.3098, 0.6902, 0.8039,\n",
       "          0.8118, 0.8118, 0.8118, 0.8118, 0.8118, 0.8118, 0.8078, 0.8078,\n",
       "          0.8078, 0.8000, 0.7961, 0.7922]]], dtype=torch.float64)"
      ]
     },
     "execution_count": 49,
     "metadata": {},
     "output_type": "execute_result"
    }
   ],
   "source": [
    "row_0 = train_df.head(1)\n",
    "y_0 = row_0.pop('label')\n",
    "x_0 = row_0.values / 255\n",
    "x_0 = x_0.reshape(IMG_CHS, IMG_WIDTH, IMG_HEIGHT)\n",
    "x_0 = torch.tensor(x_0)\n",
    "x_0.shape\n",
    "x_0\n"
   ]
  },
  {
   "cell_type": "code",
   "execution_count": 50,
   "metadata": {
    "colab": {
     "base_uri": "https://localhost:8080/",
     "height": 447
    },
    "executionInfo": {
     "elapsed": 332,
     "status": "ok",
     "timestamp": 1715241364072,
     "user": {
      "displayName": "Danielle Detering US",
      "userId": "15432464718872067879"
     },
     "user_tz": 420
    },
    "id": "XKFRYIpvkUEF",
    "outputId": "fb3f72ab-ce59-4bfc-a54a-0a4d575e497c"
   },
   "outputs": [
    {
     "data": {
      "text/plain": [
       "<matplotlib.image.AxesImage at 0x16ab6c590>"
      ]
     },
     "execution_count": 50,
     "metadata": {},
     "output_type": "execute_result"
    },
    {
     "data": {
      "image/png": "[encoded data removed]",
      "text/plain": [
       "<Figure size 640x480 with 1 Axes>"
      ]
     },
     "metadata": {},
     "output_type": "display_data"
    }
   ],
   "source": [
    "image = F.to_pil_image(x_0)\n",
    "plt.imshow(image, cmap='gray')"
   ]
  },
  {
   "cell_type": "markdown",
   "metadata": {},
   "source": [
    "### 4a.4.1 [RandomResizeCrop](https://pytorch.org/vision/0.9/transforms.html#torchvision.transforms.RandomResizedCrop)"
   ]
  },
  {
   "cell_type": "markdown",
   "metadata": {},
   "source": [
    "This transform will randomly resize the input image based on `scale`, and then [crop](https://en.wikipedia.org/wiki/Cropping_(image)) it to a size we specify. In this case, we will crop it to the original image dimensions. To do this, TorchVision needs to know the [aspect ratio](https://en.wikipedia.org/wiki/Aspect_ratio_(image)) of the image it is scaling. Since our height is the same as our width, our aspect `ratio` is 1:1."
   ]
  },
  {
   "cell_type": "code",
   "execution_count": 51,
   "metadata": {
    "executionInfo": {
     "elapsed": 2,
     "status": "ok",
     "timestamp": 1715241375000,
     "user": {
      "displayName": "Danielle Detering US",
      "userId": "15432464718872067879"
     },
     "user_tz": 420
    },
    "id": "qWINTqKypE5J"
   },
   "outputs": [],
   "source": [
    "trans = transforms.Compose([\n",
    "    transforms.RandomResizedCrop((IMG_WIDTH, IMG_HEIGHT), scale=(.7, 1), ratio=(1, 1)),\n",
    "])"
   ]
  },
  {
   "cell_type": "markdown",
   "metadata": {},
   "source": [
    "Try running the below cell a few times. It should be different each time."
   ]
  },
  {
   "cell_type": "code",
   "execution_count": 52,
   "metadata": {
    "colab": {
     "base_uri": "https://localhost:8080/",
     "height": 447
    },
    "executionInfo": {
     "elapsed": 507,
     "status": "ok",
     "timestamp": 1715241377237,
     "user": {
      "displayName": "Danielle Detering US",
      "userId": "15432464718872067879"
     },
     "user_tz": 420
    },
    "id": "6ZugUNuJpPG2",
    "outputId": "52caec17-6a25-4484-c2f4-2aed78b5ffe8"
   },
   "outputs": [
    {
     "data": {
      "text/plain": [
       "<matplotlib.image.AxesImage at 0x147b0ce10>"
      ]
     },
     "execution_count": 52,
     "metadata": {},
     "output_type": "execute_result"
    },
    {
     "data": {
      "image/png": "[encoded data removed]",
      "text/plain": [
       "<Figure size 640x480 with 1 Axes>"
      ]
     },
     "metadata": {},
     "output_type": "display_data"
    }
   ],
   "source": [
    "new_x_0 = trans(x_0)\n",
    "image = F.to_pil_image(new_x_0)\n",
    "plt.imshow(image, cmap='gray')"
   ]
  },
  {
   "cell_type": "code",
   "execution_count": 53,
   "metadata": {
    "colab": {
     "base_uri": "https://localhost:8080/"
    },
    "executionInfo": {
     "elapsed": 333,
     "status": "ok",
     "timestamp": 1715241385987,
     "user": {
      "displayName": "Danielle Detering US",
      "userId": "15432464718872067879"
     },
     "user_tz": 420
    },
    "id": "8VQJ1vwKp4nJ",
    "outputId": "63521e3a-5a63-48c8-8823-bd60d6814b64"
   },
   "outputs": [
    {
     "data": {
      "text/plain": [
       "torch.Size([1, 28, 28])"
      ]
     },
     "execution_count": 53,
     "metadata": {},
     "output_type": "execute_result"
    }
   ],
   "source": [
    "new_x_0.shape"
   ]
  },
  {
   "cell_type": "markdown",
   "metadata": {},
   "source": [
    "### 4a.4.2 [RandomHorizontalFlip](https://pytorch.org/vision/0.9/transforms.html#torchvision.transforms.RandomHorizontalFlip)"
   ]
  },
  {
   "cell_type": "markdown",
   "metadata": {
    "id": "Yrmm_inJ3Y-j"
   },
   "source": [
    "We can also randomly flip our images [Horizontally](https://pytorch.org/vision/0.9/transforms.html#torchvision.transforms.RandomHorizontalFlip) or [Vertically](https://pytorch.org/vision/0.9/transforms.html#torchvision.transforms.RandomVerticalFlip). However, for these images, we will only flip them horizontally.\n",
    "\n",
    "Take a moment to think about why we would want to flip images horizontally, but not vertically. When you have an idea, reveal the text below."
   ]
  },
  {
   "cell_type": "markdown",
   "metadata": {
    "id": "XCLufCeF3Y-j"
   },
   "source": [
    "`# SOLUTION` Fun fact: American Sign Language can be done with either the left or right hand being dominant. However, it is unlikely to see sign language from upside down. This kind of domain-specific reasoning can help make good decisions for your own deep learning applications."
   ]
  },
  {
   "cell_type": "code",
   "execution_count": 54,
   "metadata": {},
   "outputs": [],
   "source": [
    "trans = transforms.Compose([\n",
    "    transforms.RandomHorizontalFlip()\n",
    "])"
   ]
  },
  {
   "cell_type": "markdown",
   "metadata": {},
   "source": [
    "Try running the below cell a few times. Does the image flip about half the time?"
   ]
  },
  {
   "cell_type": "code",
   "execution_count": 55,
   "metadata": {},
   "outputs": [
    {
     "data": {
      "text/plain": [
       "<matplotlib.image.AxesImage at 0x33009f7d0>"
      ]
     },
     "execution_count": 55,
     "metadata": {},
     "output_type": "execute_result"
    },
    {
     "data": {
      "image/png": "[encoded data removed]",
      "text/plain": [
       "<Figure size 640x480 with 1 Axes>"
      ]
     },
     "metadata": {},
     "output_type": "display_data"
    }
   ],
   "source": [
    "new_x_0 = trans(x_0)\n",
    "image = F.to_pil_image(new_x_0)\n",
    "plt.imshow(image, cmap='gray')"
   ]
  },
  {
   "cell_type": "markdown",
   "metadata": {},
   "source": [
    "### 4a.4.3 [RandomRotation](https://pytorch.org/vision/0.9/transforms.html#torchvision.transforms.RandomRotation)"
   ]
  },
  {
   "cell_type": "markdown",
   "metadata": {},
   "source": [
    "We can also randomly rotate the image to add more variability. Just like with with other augmentation techniques, it's easy to accidentally go too far. With ASL, if we rotate too much, our `D`s might look like `G`s and visa versa. Because of this, let's limit it to `30` degrees."
   ]
  },
  {
   "cell_type": "code",
   "execution_count": 56,
   "metadata": {},
   "outputs": [],
   "source": [
    "trans = transforms.Compose([\n",
    "    transforms.RandomRotation(10)\n",
    "])"
   ]
  },
  {
   "cell_type": "markdown",
   "metadata": {},
   "source": [
    "When we run the cell block below, some black pixels may appear. The corners or our image disappear when we rotate, and for almost every pixel we lose, we gain an empty pixel."
   ]
  },
  {
   "cell_type": "code",
   "execution_count": 57,
   "metadata": {},
   "outputs": [
    {
     "data": {
      "text/plain": [
       "<matplotlib.image.AxesImage at 0x3300de590>"
      ]
     },
     "execution_count": 57,
     "metadata": {},
     "output_type": "execute_result"
    },
    {
     "data": {
      "image/png": "[encoded data removed]",
      "text/plain": [
       "<Figure size 640x480 with 1 Axes>"
      ]
     },
     "metadata": {},
     "output_type": "display_data"
    }
   ],
   "source": [
    "new_x_0 = trans(x_0)\n",
    "image = F.to_pil_image(new_x_0)\n",
    "plt.imshow(image, cmap='gray')"
   ]
  },
  {
   "cell_type": "markdown",
   "metadata": {},
   "source": [
    "### 4a.4.3 [ColorJitter](https://pytorch.org/vision/0.9/transforms.html#torchvision.transforms.ColorJitter)"
   ]
  },
  {
   "cell_type": "markdown",
   "metadata": {},
   "source": [
    "The `ColorJitter` transform has 4 arguments:\n",
    "* [brightness](https://en.wikipedia.org/wiki/Brightness)\n",
    "* [contrast](https://en.wikipedia.org/wiki/Contrast_(vision))\n",
    "* [saturation](https://en.wikipedia.org/wiki/Colorfulness#Saturation)\n",
    "* [hue](https://en.wikipedia.org/wiki/Hue)\n",
    "\n",
    "\n",
    "The latter 2 apply to color images, so we will only use the first 2 for now."
   ]
  },
  {
   "cell_type": "code",
   "execution_count": 58,
   "metadata": {},
   "outputs": [],
   "source": [
    "brightness = .2  # Change to be from 0 to 1\n",
    "contrast = .5  # Change to be from 0 to 1\n",
    "\n",
    "trans = transforms.Compose([\n",
    "    transforms.ColorJitter(brightness=brightness, contrast=contrast)\n",
    "])"
   ]
  },
  {
   "cell_type": "markdown",
   "metadata": {},
   "source": [
    "Try running the below a few times, but also try changing either `brightness` or `contrast` to `1`. Get any intersting results?"
   ]
  },
  {
   "cell_type": "code",
   "execution_count": 59,
   "metadata": {},
   "outputs": [
    {
     "data": {
      "text/plain": [
       "<matplotlib.image.AxesImage at 0x33008b7d0>"
      ]
     },
     "execution_count": 59,
     "metadata": {},
     "output_type": "execute_result"
    },
    {
     "data": {
      "image/png": "[encoded data removed]",
      "text/plain": [
       "<Figure size 640x480 with 1 Axes>"
      ]
     },
     "metadata": {},
     "output_type": "display_data"
    }
   ],
   "source": [
    "new_x_0 = trans(x_0)\n",
    "image = F.to_pil_image(new_x_0)\n",
    "plt.imshow(image, cmap='gray')"
   ]
  },
  {
   "cell_type": "markdown",
   "metadata": {},
   "source": [
    "### 4a.3.4 [Compose](https://pytorch.org/vision/0.9/transforms.html#torchvision.transforms.Compose)"
   ]
  },
  {
   "cell_type": "markdown",
   "metadata": {},
   "source": [
    "Time to bring it all together. We can create a sequence of these random transformations with `Compose`."
   ]
  },
  {
   "cell_type": "code",
   "execution_count": 60,
   "metadata": {
    "executionInfo": {
     "elapsed": 1,
     "status": "ok",
     "timestamp": 1715241387886,
     "user": {
      "displayName": "Danielle Detering US",
      "userId": "15432464718872067879"
     },
     "user_tz": 420
    },
    "id": "ZkXjesFKFH_b"
   },
   "outputs": [],
   "source": [
    "random_transforms = transforms.Compose([\n",
    "    transforms.RandomRotation(5),\n",
    "    transforms.RandomResizedCrop((IMG_WIDTH, IMG_HEIGHT), scale=(.9, 1), ratio=(1, 1)),\n",
    "    transforms.RandomHorizontalFlip(),\n",
    "    transforms.ColorJitter(brightness=.2, contrast=.5)\n",
    "])"
   ]
  },
  {
   "cell_type": "markdown",
   "metadata": {},
   "source": [
    "Let's test it out. With all the different combinations how many varations are there of this one image? Infinite?"
   ]
  },
  {
   "cell_type": "code",
   "execution_count": 61,
   "metadata": {
    "colab": {
     "base_uri": "https://localhost:8080/",
     "height": 447
    },
    "executionInfo": {
     "elapsed": 347,
     "status": "ok",
     "timestamp": 1715241391170,
     "user": {
      "displayName": "Danielle Detering US",
      "userId": "15432464718872067879"
     },
     "user_tz": 420
    },
    "id": "ewG_7NAgqEnf",
    "outputId": "24142f9f-286f-42ab-9769-bfd38c9defbf"
   },
   "outputs": [
    {
     "data": {
      "text/plain": [
       "<matplotlib.image.AxesImage at 0x31ffa4cd0>"
      ]
     },
     "execution_count": 61,
     "metadata": {},
     "output_type": "execute_result"
    },
    {
     "data": {
      "image/png": "[encoded data removed]",
      "text/plain": [
       "<Figure size 640x480 with 1 Axes>"
      ]
     },
     "metadata": {},
     "output_type": "display_data"
    }
   ],
   "source": [
    "new_x_0 = random_transforms(x_0)\n",
    "image = F.to_pil_image(new_x_0)\n",
    "plt.imshow(image, cmap='gray')"
   ]
  },
  {
   "cell_type": "markdown",
   "metadata": {},
   "source": [
    "### 4a.4 Training with Augmentation"
   ]
  },
  {
   "cell_type": "markdown",
   "metadata": {},
   "source": [
    "Our training is mostly the same, but there is one line of change. Before passing our images to our model, we will apply our `random_transforms`. For conveneince, we moved `get_batch_accuracy` to a [utils](./utils.py) file."
   ]
  },
  {
   "cell_type": "code",
   "execution_count": 62,
   "metadata": {
    "executionInfo": {
     "elapsed": 317,
     "status": "ok",
     "timestamp": 1715241479297,
     "user": {
      "displayName": "Danielle Detering US",
      "userId": "15432464718872067879"
     },
     "user_tz": 420
    },
    "id": "IcgAmvx7rI13"
   },
   "outputs": [],
   "source": [
    "def train():\n",
    "    loss = 0\n",
    "    accuracy = 0\n",
    "\n",
    "    model.train()\n",
    "    for x, y in train_loader:\n",
    "        output = model(random_transforms(x))  # Updated\n",
    "        optimizer.zero_grad()\n",
    "        batch_loss = loss_function(output, y)\n",
    "        batch_loss.backward()\n",
    "        optimizer.step()\n",
    "\n",
    "        loss += batch_loss.item()\n",
    "        accuracy += utils.get_batch_accuracy(output, y, train_N)\n",
    "    print('Train - Loss: {:.4f} Accuracy: {:.4f}'.format(loss, accuracy))"
   ]
  },
  {
   "cell_type": "markdown",
   "metadata": {},
   "source": [
    "On the other hamd, validation remains the same. There are no random transformations. "
   ]
  },
  {
   "cell_type": "code",
   "execution_count": 63,
   "metadata": {
    "executionInfo": {
     "elapsed": 382,
     "status": "ok",
     "timestamp": 1715241482250,
     "user": {
      "displayName": "Danielle Detering US",
      "userId": "15432464718872067879"
     },
     "user_tz": 420
    },
    "id": "iXc6lnRAR4qZ"
   },
   "outputs": [],
   "source": [
    "def validate():\n",
    "    loss = 0\n",
    "    accuracy = 0\n",
    "\n",
    "    model.eval()\n",
    "    with torch.no_grad():\n",
    "        for x, y in valid_loader:\n",
    "            output = model(x)\n",
    "\n",
    "            loss += loss_function(output, y).item()\n",
    "            accuracy += utils.get_batch_accuracy(output, y, valid_N)\n",
    "    print('Valid - Loss: {:.4f} Accuracy: {:.4f}'.format(loss, accuracy))"
   ]
  },
  {
   "cell_type": "markdown",
   "metadata": {},
   "source": [
    "Let's put data augmentation to the test. "
   ]
  },
  {
   "cell_type": "code",
   "execution_count": 64,
   "metadata": {
    "colab": {
     "base_uri": "https://localhost:8080/"
    },
    "executionInfo": {
     "elapsed": 45384,
     "status": "ok",
     "timestamp": 1715241529445,
     "user": {
      "displayName": "Danielle Detering US",
      "userId": "15432464718872067879"
     },
     "user_tz": 420
    },
    "id": "isjOJIVArTLR",
    "outputId": "5d4b6a5f-2ad9-4276-d65e-d84b9874ec3b"
   },
   "outputs": [
    {
     "name": "stdout",
     "output_type": "stream",
     "text": [
      "Epoch: 0\n",
      "Train - Loss: 633.6123 Accuracy: 0.7611\n",
      "Valid - Loss: 57.7522 Accuracy: 0.9144\n",
      "Epoch: 1\n",
      "Train - Loss: 107.3140 Accuracy: 0.9602\n",
      "Valid - Loss: 106.2392 Accuracy: 0.8291\n",
      "Epoch: 2\n",
      "Train - Loss: 51.6853 Accuracy: 0.9813\n",
      "Valid - Loss: 27.7427 Accuracy: 0.9723\n",
      "Epoch: 3\n",
      "Train - Loss: 42.8334 Accuracy: 0.9834\n",
      "Valid - Loss: 18.5936 Accuracy: 0.9716\n",
      "Epoch: 4\n",
      "Train - Loss: 34.0845 Accuracy: 0.9867\n",
      "Valid - Loss: 29.9021 Accuracy: 0.9631\n",
      "Epoch: 5\n",
      "Train - Loss: 30.9646 Accuracy: 0.9884\n",
      "Valid - Loss: 33.1360 Accuracy: 0.9584\n",
      "Epoch: 6\n",
      "Train - Loss: 23.5181 Accuracy: 0.9903\n",
      "Valid - Loss: 31.4462 Accuracy: 0.9545\n",
      "Epoch: 7\n",
      "Train - Loss: 23.4369 Accuracy: 0.9912\n",
      "Valid - Loss: 11.7380 Accuracy: 0.9813\n",
      "Epoch: 8\n",
      "Train - Loss: 23.8113 Accuracy: 0.9909\n",
      "Valid - Loss: 9.7893 Accuracy: 0.9816\n",
      "Epoch: 9\n",
      "Train - Loss: 16.2477 Accuracy: 0.9936\n",
      "Valid - Loss: 23.6195 Accuracy: 0.9591\n",
      "Epoch: 10\n",
      "Train - Loss: 15.4829 Accuracy: 0.9943\n",
      "Valid - Loss: 22.7272 Accuracy: 0.9678\n",
      "Epoch: 11\n",
      "Train - Loss: 18.4900 Accuracy: 0.9931\n",
      "Valid - Loss: 29.6649 Accuracy: 0.9699\n",
      "Epoch: 12\n",
      "Train - Loss: 15.0394 Accuracy: 0.9946\n",
      "Valid - Loss: 30.2871 Accuracy: 0.9720\n",
      "Epoch: 13\n",
      "Train - Loss: 15.7657 Accuracy: 0.9936\n",
      "Valid - Loss: 14.6830 Accuracy: 0.9792\n",
      "Epoch: 14\n",
      "Train - Loss: 11.4291 Accuracy: 0.9957\n",
      "Valid - Loss: 11.7620 Accuracy: 0.9791\n",
      "Epoch: 15\n",
      "Train - Loss: 10.6506 Accuracy: 0.9962\n",
      "Valid - Loss: 18.1155 Accuracy: 0.9728\n",
      "Epoch: 16\n",
      "Train - Loss: 11.6811 Accuracy: 0.9955\n",
      "Valid - Loss: 20.6132 Accuracy: 0.9711\n",
      "Epoch: 17\n",
      "Train - Loss: 12.2976 Accuracy: 0.9952\n",
      "Valid - Loss: 28.6598 Accuracy: 0.9700\n",
      "Epoch: 18\n",
      "Train - Loss: 11.5578 Accuracy: 0.9959\n",
      "Valid - Loss: 4.9129 Accuracy: 0.9895\n",
      "Epoch: 19\n",
      "Train - Loss: 13.8118 Accuracy: 0.9953\n",
      "Valid - Loss: 13.5604 Accuracy: 0.9873\n"
     ]
    }
   ],
   "source": [
    "epochs = 20\n",
    "\n",
    "for epoch in range(epochs):\n",
    "    print('Epoch: {}'.format(epoch))\n",
    "    train()\n",
    "    validate()"
   ]
  },
  {
   "cell_type": "markdown",
   "metadata": {
    "id": "h0WoN84J3Y-l"
   },
   "source": [
    "## Discussion of Results"
   ]
  },
  {
   "cell_type": "markdown",
   "metadata": {
    "id": "-EPTunxK3Y-l"
   },
   "source": [
    "You will notice that the validation accuracy is higher, and more consistent. This means that our model is no longer overfitting in the way it was; it generalizes better, making better predictions on new data.\n",
    "\n",
    "The training accuracy may be lower, and that's ok. Compared to before, the model is being exposed to a much larger variety of data."
   ]
  },
  {
   "cell_type": "markdown",
   "metadata": {
    "id": "npYY9cvA3Y-l"
   },
   "source": [
    "## Saving the Model"
   ]
  },
  {
   "cell_type": "markdown",
   "metadata": {
    "id": "EW_TgWkN3Y-l"
   },
   "source": [
    "Now that we have a well-trained model, we will want to deploy it to perform inference on new images.\n",
    "\n",
    "It is common, once we have a trained model that we are happy with to save it to disk. PyTorch has [multiple ways](https://pytorch.org/tutorials/beginner/saving_loading_models.html) to do this, but for now, we will use `torch.save`. We will also need to save the code for our `MyConvBlock` custom module, which we did in [utils.py](./utils.py). In the next notebook, we'll load the model and use it to read new sign language pictures.\n",
    "\n",
    "PyTorch cannot save a compiled model ([see this post](https://discuss.pytorch.org/t/how-to-save-load-a-model-with-torch-compile/179739)), so we will instead "
   ]
  },
  {
   "cell_type": "code",
   "execution_count": 65,
   "metadata": {
    "executionInfo": {
     "elapsed": 326,
     "status": "ok",
     "timestamp": 1715241533765,
     "user": {
      "displayName": "Danielle Detering US",
      "userId": "15432464718872067879"
     },
     "user_tz": 420
    },
    "id": "snAS8LalsMv4"
   },
   "outputs": [],
   "source": [
    "torch.save(base_model, 'model.pth')"
   ]
  },
  {
   "cell_type": "markdown",
   "metadata": {
    "id": "hfePFALr3Y-l"
   },
   "source": [
    "## Summary"
   ]
  },
  {
   "cell_type": "markdown",
   "metadata": {
    "id": "7fo5z3M03Y-l"
   },
   "source": [
    "In this section, you used TorchVision to augment a dataset. This resulted in a trained model with less overfitting and excellent validation image results."
   ]
  },
  {
   "cell_type": "markdown",
   "metadata": {
    "id": "TgDmGUB93Y-l"
   },
   "source": [
    "### Clear the Memory\n",
    "Before moving on, please execute the following cell to clear up the GPU memory."
   ]
  },
  {
   "cell_type": "code",
   "execution_count": null,
   "metadata": {
    "id": "R6EXCtGr3Y-l"
   },
   "outputs": [],
   "source": [
    "import IPython\n",
    "app = IPython.Application.instance()\n",
    "app.kernel.do_shutdown(True)"
   ]
  },
  {
   "cell_type": "markdown",
   "metadata": {
    "id": "8DIV9ZNW3Y-l"
   },
   "source": [
    "## Next"
   ]
  },
  {
   "cell_type": "markdown",
   "metadata": {
    "id": "E4iefhaq3Y-l"
   },
   "source": [
    "Now that you have a well-trained model saved to disk, you will, in the next section, deploy it to make predictions on not-yet-seen images.\n",
    "\n",
    "Please continue to the next notebook: [*Model Predictions*](04b_asl_predictions.ipynb)."
   ]
  },
  {
   "cell_type": "markdown",
   "metadata": {
    "id": "j3I_B1M63Y-l"
   },
   "source": [
    "<center><a href=\"https://www.nvidia.com/dli\"> <img src=\"images/DLI_Header.png\" alt=\"Header\" style=\"width: 400px;\"/> </a></center>"
   ]
  }
 ],
 "metadata": {
  "accelerator": "GPU",
  "colab": {
   "gpuType": "T4",
   "provenance": []
  },
  "kernelspec": {
   "display_name": ".venv",
   "language": "python",
   "name": "python3"
  },
  "language_info": {
   "codemirror_mode": {
    "name": "ipython",
    "version": 3
   },
   "file_extension": ".py",
   "mimetype": "text/x-python",
   "name": "python",
   "nbconvert_exporter": "python",
   "pygments_lexer": "ipython3",
   "version": "3.11.11"
  }
 },
 "nbformat": 4,
 "nbformat_minor": 4
}
